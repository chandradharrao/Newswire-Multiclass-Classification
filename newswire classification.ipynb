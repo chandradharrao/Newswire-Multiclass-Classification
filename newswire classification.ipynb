{
 "cells": [
  {
   "cell_type": "code",
   "execution_count": 1,
   "metadata": {},
   "outputs": [
    {
     "name": "stderr",
     "output_type": "stream",
     "text": [
      "Using TensorFlow backend.\n"
     ]
    }
   ],
   "source": [
    "from keras.datasets import reuters"
   ]
  },
  {
   "cell_type": "code",
   "execution_count": 2,
   "metadata": {},
   "outputs": [],
   "source": [
    "(train_data,train_label),(test_data,test_label) = reuters.load_data(num_words = 50000)"
   ]
  },
  {
   "cell_type": "code",
   "execution_count": 3,
   "metadata": {},
   "outputs": [
    {
     "data": {
      "text/plain": [
       "8982"
      ]
     },
     "execution_count": 3,
     "metadata": {},
     "output_type": "execute_result"
    }
   ],
   "source": [
    "len(train_data)"
   ]
  },
  {
   "cell_type": "code",
   "execution_count": 4,
   "metadata": {},
   "outputs": [
    {
     "data": {
      "text/plain": [
       "2246"
      ]
     },
     "execution_count": 4,
     "metadata": {},
     "output_type": "execute_result"
    }
   ],
   "source": [
    "len(test_data)"
   ]
  },
  {
   "cell_type": "code",
   "execution_count": 5,
   "metadata": {},
   "outputs": [
    {
     "data": {
      "text/plain": [
       "[1,\n",
       " 27595,\n",
       " 28842,\n",
       " 8,\n",
       " 43,\n",
       " 10,\n",
       " 447,\n",
       " 5,\n",
       " 25,\n",
       " 207,\n",
       " 270,\n",
       " 5,\n",
       " 3095,\n",
       " 111,\n",
       " 16,\n",
       " 369,\n",
       " 186,\n",
       " 90,\n",
       " 67,\n",
       " 7,\n",
       " 89,\n",
       " 5,\n",
       " 19,\n",
       " 102,\n",
       " 6,\n",
       " 19,\n",
       " 124,\n",
       " 15,\n",
       " 90,\n",
       " 67,\n",
       " 84,\n",
       " 22,\n",
       " 482,\n",
       " 26,\n",
       " 7,\n",
       " 48,\n",
       " 4,\n",
       " 49,\n",
       " 8,\n",
       " 864,\n",
       " 39,\n",
       " 209,\n",
       " 154,\n",
       " 6,\n",
       " 151,\n",
       " 6,\n",
       " 83,\n",
       " 11,\n",
       " 15,\n",
       " 22,\n",
       " 155,\n",
       " 11,\n",
       " 15,\n",
       " 7,\n",
       " 48,\n",
       " 9,\n",
       " 4579,\n",
       " 1005,\n",
       " 504,\n",
       " 6,\n",
       " 258,\n",
       " 6,\n",
       " 272,\n",
       " 11,\n",
       " 15,\n",
       " 22,\n",
       " 134,\n",
       " 44,\n",
       " 11,\n",
       " 15,\n",
       " 16,\n",
       " 8,\n",
       " 197,\n",
       " 1245,\n",
       " 90,\n",
       " 67,\n",
       " 52,\n",
       " 29,\n",
       " 209,\n",
       " 30,\n",
       " 32,\n",
       " 132,\n",
       " 6,\n",
       " 109,\n",
       " 15,\n",
       " 17,\n",
       " 12]"
      ]
     },
     "execution_count": 5,
     "metadata": {},
     "output_type": "execute_result"
    }
   ],
   "source": [
    "train_data[0]#training data is a list of tokenized integers ie each integer represents a word's token"
   ]
  },
  {
   "cell_type": "code",
   "execution_count": 6,
   "metadata": {},
   "outputs": [],
   "source": [
    "word_index = reuters.get_word_index()#this will be a dictionary of words-token\n",
    "index_word = dict()\n",
    "for key,value in word_index.items():\n",
    "    index_word.update({value:key})"
   ]
  },
  {
   "cell_type": "code",
   "execution_count": 7,
   "metadata": {},
   "outputs": [
    {
     "data": {
      "text/plain": [
       "'the in wants intermediate 3 how types could mln at against 2 guidelines vs end products opec he will will along results and willingly exports 3 purchased each it stubbornly profit 3 avondale profit agreement in around corp should for 3 cannot mln in ended said avondale a 54 but 3 stubbornly a only generally political primarily date other under well a in british rate gain if demand at an div its taking report montreal systems were is and production had vs 000 7 issued year for 0 a in buffer rate loss may results tariffs dlrs is and from 39 s 000 for 3 cannot pre 50 east that in foods products opec last 1 fall change 1 approval in 15 2 said in opec 28 but for 3 cannot cts systems which is half be 6 iffezheim uobm said president amount pct dlrs '"
      ]
     },
     "execution_count": 7,
     "metadata": {},
     "output_type": "execute_result"
    }
   ],
   "source": [
    "def convert_token_to_word(arr_of_ints):\n",
    "    text = \"\"\n",
    "    for tkn in arr_of_ints:\n",
    "        text+=index_word[tkn]\n",
    "        text+=\" \"\n",
    "    return text\n",
    "convert_token_to_word(test_data[0])"
   ]
  },
  {
   "cell_type": "code",
   "execution_count": 41,
   "metadata": {},
   "outputs": [
    {
     "data": {
      "text/plain": [
       "8982"
      ]
     },
     "execution_count": 41,
     "metadata": {},
     "output_type": "execute_result"
    }
   ],
   "source": [
    "train_label[0]\n",
    "#index_word[1]\n",
    "len(train_data)"
   ]
  },
  {
   "cell_type": "code",
   "execution_count": 45,
   "metadata": {},
   "outputs": [
    {
     "name": "stdout",
     "output_type": "stream",
     "text": [
      "(8982, 50000)\n"
     ]
    }
   ],
   "source": [
    "#one hot encoding the input data\n",
    "import numpy as np\n",
    "def one_hot_encode(input):\n",
    "    tensr = np.zeros((len(input),50000),dtype = int)#rows = no of news articles(batch-size) and columns include the one-hot-encoding of the words in a review\n",
    "    for i in range(len(input)):\n",
    "        for j in input[i]:\n",
    "            tensr[i,j] = 1\n",
    "    return tensr\n",
    "x_train = one_hot_encode(train_data)\n",
    "print(x_train.shape)\n",
    "x_test = one_hot_encode(test_data)"
   ]
  },
  {
   "cell_type": "code",
   "execution_count": 46,
   "metadata": {},
   "outputs": [],
   "source": [
    "#one hot encoding labels\n",
    "from keras.utils.np_utils import to_categorical\n",
    "y_train = to_categorical(train_label)\n",
    "y_test = to_categorical(test_label)\n"
   ]
  },
  {
   "cell_type": "code",
   "execution_count": 76,
   "metadata": {},
   "outputs": [],
   "source": [
    "#16 hidden units maybe bottleneck to relevant information hence we will use 64 units\n",
    "from keras import models\n",
    "from keras import layers\n",
    "model = models.Sequential()\n",
    "model.add(layers.Dense(64,activation = \"relu\",input_shape = (50000,)))\n",
    "model.add(layers.Dense(64,activation=\"relu\"))\n",
    "model.add(layers.Dense(64,activation=\"relu\"))\n",
    "model.add(layers.Dense(46,activation = \"softmax\"))#hence output will be a 46 dimensional vector\n"
   ]
  },
  {
   "cell_type": "code",
   "execution_count": 77,
   "metadata": {},
   "outputs": [],
   "source": [
    "model.compile(optimizer = \"adam\",loss = \"categorical_crossentropy\",metrics = [\"accuracy\"])"
   ]
  },
  {
   "cell_type": "code",
   "execution_count": 78,
   "metadata": {},
   "outputs": [
    {
     "name": "stdout",
     "output_type": "stream",
     "text": [
      "(7982, 50000)\n",
      "(7982, 46)\n"
     ]
    }
   ],
   "source": [
    "x_validation = x_train[:1000]\n",
    "y_validation = y_train[:1000]\n",
    "partial_xtrain = x_train[1000:]\n",
    "print(partial_xtrain.shape)\n",
    "partial_ytrain = y_train[1000:]\n",
    "print(partial_ytrain.shape)"
   ]
  },
  {
   "cell_type": "code",
   "execution_count": 79,
   "metadata": {},
   "outputs": [
    {
     "name": "stdout",
     "output_type": "stream",
     "text": [
      "Train on 7982 samples, validate on 1000 samples\n",
      "Epoch 1/20\n",
      "7982/7982 [==============================] - 6s 799us/step - loss: 3.2179 - acc: 0.4186 - val_loss: 2.4019 - val_acc: 0.5410\n",
      "Epoch 2/20\n",
      "7982/7982 [==============================] - 5s 617us/step - loss: 1.8872 - acc: 0.6079 - val_loss: 1.5847 - val_acc: 0.6440\n",
      "Epoch 3/20\n",
      "7982/7982 [==============================] - 5s 621us/step - loss: 1.3367 - acc: 0.7046 - val_loss: 1.3248 - val_acc: 0.6960\n",
      "Epoch 4/20\n",
      "7982/7982 [==============================] - 5s 642us/step - loss: 1.0158 - acc: 0.7752 - val_loss: 1.1487 - val_acc: 0.7560\n",
      "Epoch 5/20\n",
      "7982/7982 [==============================] - 5s 682us/step - loss: 0.7526 - acc: 0.8355 - val_loss: 1.0342 - val_acc: 0.7770\n",
      "Epoch 6/20\n",
      "7982/7982 [==============================] - 6s 703us/step - loss: 0.5420 - acc: 0.8820 - val_loss: 0.9953 - val_acc: 0.7870\n",
      "Epoch 7/20\n",
      "7982/7982 [==============================] - 5s 681us/step - loss: 0.3929 - acc: 0.9206 - val_loss: 0.9580 - val_acc: 0.8040\n",
      "Epoch 8/20\n",
      "7982/7982 [==============================] - 5s 657us/step - loss: 0.2869 - acc: 0.9410 - val_loss: 0.9643 - val_acc: 0.8020\n",
      "Epoch 9/20\n",
      "7982/7982 [==============================] - 5s 624us/step - loss: 0.2169 - acc: 0.9496 - val_loss: 0.9887 - val_acc: 0.8030\n",
      "Epoch 10/20\n",
      "7982/7982 [==============================] - 5s 587us/step - loss: 0.1756 - acc: 0.9551 - val_loss: 0.9861 - val_acc: 0.8070\n",
      "Epoch 11/20\n",
      "7982/7982 [==============================] - 5s 591us/step - loss: 0.1558 - acc: 0.9569 - val_loss: 1.0404 - val_acc: 0.8000\n",
      "Epoch 12/20\n",
      "7982/7982 [==============================] - 5s 587us/step - loss: 0.1387 - acc: 0.9594 - val_loss: 1.0041 - val_acc: 0.8090\n",
      "Epoch 13/20\n",
      "7982/7982 [==============================] - 5s 612us/step - loss: 0.1265 - acc: 0.9623 - val_loss: 1.0798 - val_acc: 0.7950\n",
      "Epoch 14/20\n",
      "7982/7982 [==============================] - 5s 585us/step - loss: 0.1198 - acc: 0.9590 - val_loss: 1.0358 - val_acc: 0.8050\n",
      "Epoch 15/20\n",
      "7982/7982 [==============================] - 5s 584us/step - loss: 0.1123 - acc: 0.9608 - val_loss: 1.0644 - val_acc: 0.8030\n",
      "Epoch 16/20\n",
      "7982/7982 [==============================] - 5s 683us/step - loss: 0.1199 - acc: 0.9615 - val_loss: 1.0773 - val_acc: 0.8060\n",
      "Epoch 17/20\n",
      "7982/7982 [==============================] - 5s 586us/step - loss: 0.1096 - acc: 0.9637 - val_loss: 1.0980 - val_acc: 0.7970\n",
      "Epoch 18/20\n",
      "7982/7982 [==============================] - 5s 588us/step - loss: 0.1083 - acc: 0.9639 - val_loss: 1.1009 - val_acc: 0.7950\n",
      "Epoch 19/20\n",
      "7982/7982 [==============================] - 5s 641us/step - loss: 0.1051 - acc: 0.9633 - val_loss: 1.1077 - val_acc: 0.7990\n",
      "Epoch 20/20\n",
      "7982/7982 [==============================] - 5s 640us/step - loss: 0.0951 - acc: 0.9622 - val_loss: 1.0705 - val_acc: 0.8100\n"
     ]
    }
   ],
   "source": [
    "history = model.fit(partial_xtrain,partial_ytrain,epochs = 20,batch_size=512,validation_data=(x_validation,y_validation))"
   ]
  },
  {
   "cell_type": "code",
   "execution_count": 80,
   "metadata": {},
   "outputs": [
    {
     "data": {
      "image/png": "[encoded data removed]",
      "text/plain": [
       "<Figure size 432x288 with 1 Axes>"
      ]
     },
     "metadata": {
      "needs_background": "light"
     },
     "output_type": "display_data"
    },
    {
     "data": {
      "image/png": "[encoded data removed]",
      "text/plain": [
       "<Figure size 432x288 with 1 Axes>"
      ]
     },
     "metadata": {
      "needs_background": "light"
     },
     "output_type": "display_data"
    }
   ],
   "source": [
    "import matplotlib.pyplot as plt\n",
    "history_dict = history.history\n",
    "def plotting(epochs,y1,y2,data):\n",
    "    x = [i for i in range(1,epochs+1)]\n",
    "    plt.plot(x,y1,label = \"training {}\".format(data))\n",
    "    plt.plot(x,y2,label = \"validation{}\".format(data))\n",
    "    plt.legend()\n",
    "    plt.show()\n",
    "plotting(20,[x for x in history_dict[\"loss\"]],[x for x in history_dict[\"val_loss\"]],\"loss\")\n",
    "plotting(20,history_dict[\"acc\"],history_dict[\"val_acc\"],\"acc\")\n",
    "    "
   ]
  },
  {
   "cell_type": "code",
   "execution_count": 60,
   "metadata": {},
   "outputs": [
    {
     "data": {
      "text/plain": [
       "'the in wants intermediate 3 how types could mln at against 2 guidelines vs end products opec he will will along results and willingly exports 3 purchased each it stubbornly profit 3 avondale profit agreement in around corp should for 3 cannot mln in ended said avondale a 54 but 3 stubbornly a only generally political primarily date other under well a in british rate gain if demand at an div its taking report montreal systems were is and production had vs 000 7 issued year for 0 a in buffer rate loss may results tariffs dlrs is and from 39 s 000 for 3 cannot pre 50 east that in foods products opec last 1 fall change 1 approval in 15 2 said in opec 28 but for 3 cannot cts systems which is half be 6 iffezheim uobm said president amount pct dlrs '"
      ]
     },
     "execution_count": 60,
     "metadata": {},
     "output_type": "execute_result"
    }
   ],
   "source": [
    "convert_token_to_word(test_data[0])"
   ]
  },
  {
   "cell_type": "code",
   "execution_count": 61,
   "metadata": {},
   "outputs": [],
   "source": [
    "pred = model.predict(x_test)"
   ]
  },
  {
   "cell_type": "code",
   "execution_count": 75,
   "metadata": {},
   "outputs": [
    {
     "data": {
      "text/plain": [
       "(46,)"
      ]
     },
     "execution_count": 75,
     "metadata": {},
     "output_type": "execute_result"
    }
   ],
   "source": [
    "np.argmax(pred[0])\n",
    "pred[0].shape#46 classes per each output"
   ]
  },
  {
   "cell_type": "code",
   "execution_count": 64,
   "metadata": {},
   "outputs": [
    {
     "data": {
      "text/plain": [
       "3"
      ]
     },
     "execution_count": 64,
     "metadata": {},
     "output_type": "execute_result"
    }
   ],
   "source": [
    "train_label[0]"
   ]
  },
  {
   "cell_type": "code",
   "execution_count": 74,
   "metadata": {},
   "outputs": [
    {
     "data": {
      "text/plain": [
       "3"
      ]
     },
     "execution_count": 74,
     "metadata": {},
     "output_type": "execute_result"
    }
   ],
   "source": [
    "def custom_news(article):\n",
    "    article_arr = article.split(\" \")\n",
    "    int_article = [[word_index[x] for x in article_arr]]\n",
    "    custom_test = one_hot_encode(int_article)\n",
    "    return np.argmax(model.predict(custom_test)[0])\n",
    "custom_news(\"cocoa cake\")\n",
    "    \n",
    "    "
   ]
  },
  {
   "cell_type": "code",
   "execution_count": null,
   "metadata": {},
   "outputs": [],
   "source": []
  },
  {
   "cell_type": "code",
   "execution_count": null,
   "metadata": {},
   "outputs": [],
   "source": []
  }
 ],
 "metadata": {
  "kernelspec": {
   "display_name": "Python 3",
   "language": "python",
   "name": "python3"
  },
  "language_info": {
   "codemirror_mode": {
    "name": "ipython",
    "version": 3
   },
   "file_extension": ".py",
   "mimetype": "text/x-python",
   "name": "python",
   "nbconvert_exporter": "python",
   "pygments_lexer": "ipython3",
   "version": "3.5.6"
  }
 },
 "nbformat": 4,
 "nbformat_minor": 4
}
