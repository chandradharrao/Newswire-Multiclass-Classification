{
 "cells": [
  {
   "cell_type": "code",
   "execution_count": 18,
   "metadata": {},
   "outputs": [],
   "source": [
    "from keras.datasets import reuters"
   ]
  },
  {
   "cell_type": "code",
   "execution_count": 19,
   "metadata": {},
   "outputs": [],
   "source": [
    "(train_data,train_label),(test_data,test_label) = reuters.load_data(num_words = 50000)"
   ]
  },
  {
   "cell_type": "code",
   "execution_count": 20,
   "metadata": {},
   "outputs": [
    {
     "name": "stdout",
     "output_type": "stream",
     "text": [
      "the size of training data is 8982 and test data is 2246\n"
     ]
    }
   ],
   "source": [
    "print(\"the size of training data is {} and test data is {}\".format(len(train_data),len(test_data)))"
   ]
  },
  {
   "cell_type": "code",
   "execution_count": 21,
   "metadata": {},
   "outputs": [
    {
     "name": "stdout",
     "output_type": "stream",
     "text": [
      "1 27595 28842 8 43 10 447 5 25 207 270 5 3095 111 16 369 186 90 67 7 89 5 19 102 6 19 124 15 90 67 84 22 482 26 7 48 4 49 8 864 39 209 154 6 151 6 83 11 15 22 155 11 15 7 48 9 4579 1005 504 6 258 6 272 11 15 22 134 44 11 15 16 8 197 1245 90 67 52 29 209 30 32 132 6 109 15 17 12 \n"
     ]
    }
   ],
   "source": [
    "#training data is a list of tokenized integers ie each integer represents a word's token\n",
    "train_data_0_indices = \"\"\n",
    "for i in train_data[0]:\n",
    "    train_data_0_indices += (str(i) + \" \")\n",
    "print(train_data_0_indices)"
   ]
  },
  {
   "cell_type": "code",
   "execution_count": 22,
   "metadata": {},
   "outputs": [],
   "source": [
    "#this will be a dictionary of words-token\n",
    "word_index = reuters.get_word_index()\n",
    "index_word = dict()\n",
    "for key,value in word_index.items():\n",
    "    index_word.update({value:key})"
   ]
  },
  {
   "cell_type": "code",
   "execution_count": 23,
   "metadata": {},
   "outputs": [
    {
     "data": {
      "text/plain": [
       "'the in wants intermediate 3 how types could mln at against 2 guidelines vs end products opec he will will along results and willingly exports 3 purchased each it stubbornly profit 3 avondale profit agreement in around corp should for 3 cannot mln in ended said avondale a 54 but 3 stubbornly a only generally political primarily date other under well a in british rate gain if demand at an div its taking report montreal systems were is and production had vs 000 7 issued year for 0 a in buffer rate loss may results tariffs dlrs is and from 39 s 000 for 3 cannot pre 50 east that in foods products opec last 1 fall change 1 approval in 15 2 said in opec 28 but for 3 cannot cts systems which is half be 6 iffezheim uobm said president amount pct dlrs '"
      ]
     },
     "execution_count": 23,
     "metadata": {},
     "output_type": "execute_result"
    }
   ],
   "source": [
    "def convert_token_to_word(arr_of_ints):\n",
    "    text = \"\"\n",
    "    for tkn in arr_of_ints:\n",
    "        text+=index_word[tkn]\n",
    "        text+=\" \"\n",
    "    return text\n",
    "convert_token_to_word(test_data[0])"
   ]
  },
  {
   "cell_type": "code",
   "execution_count": 34,
   "metadata": {},
   "outputs": [
    {
     "name": "stdout",
     "output_type": "stream",
     "text": [
      "X train shape (8982, 50000)\n"
     ]
    }
   ],
   "source": [
    "#one hot encoding the input data\n",
    "import numpy as np\n",
    "def one_hot_encode(inputSeq):\n",
    "    tensr = np.zeros((len(inputSeq),50000),dtype = int)\n",
    "    #rows = no of news articles(batch-size) and columns include the \n",
    "    #one-hot-encoding of the words in a review\n",
    "    for i,seq in enumerate(inputSeq):\n",
    "        tensr[i,seq] = 1\n",
    "    return tensr\n",
    "x_train = one_hot_encode(train_data)\n",
    "x_test = one_hot_encode(test_data)\n",
    "print(\"X train shape \" + str(x_train.shape))"
   ]
  },
  {
   "cell_type": "code",
   "execution_count": 35,
   "metadata": {},
   "outputs": [],
   "source": [
    "#one hot encoding labels\n",
    "from keras.utils.np_utils import to_categorical\n",
    "y_train = to_categorical(train_label)\n",
    "y_test = to_categorical(test_label)"
   ]
  },
  {
   "cell_type": "code",
   "execution_count": 36,
   "metadata": {},
   "outputs": [],
   "source": [
    "#16 hidden units maybe bottleneck to relevant information hence we will use 64 units\n",
    "from keras import models\n",
    "from keras import layers\n",
    "model = models.Sequential()\n",
    "model.add(layers.Dense(64,activation = \"relu\",input_shape = (50000,)))\n",
    "model.add(layers.Dense(64,activation=\"relu\"))\n",
    "model.add(layers.Dense(64,activation=\"relu\"))\n",
    "model.add(layers.Dense(46,activation = \"softmax\"))#hence output will be a 46 dimensional vector\n"
   ]
  },
  {
   "cell_type": "code",
   "execution_count": 37,
   "metadata": {},
   "outputs": [],
   "source": [
    "model.compile(optimizer = \"adam\",loss = \"categorical_crossentropy\",metrics = [\"accuracy\"])"
   ]
  },
  {
   "cell_type": "code",
   "execution_count": 38,
   "metadata": {},
   "outputs": [
    {
     "name": "stdout",
     "output_type": "stream",
     "text": [
      "(7982, 50000)\n",
      "(7982, 46)\n"
     ]
    }
   ],
   "source": [
    "x_validation = x_train[:1000]\n",
    "y_validation = y_train[:1000]\n",
    "partial_xtrain = x_train[1000:]\n",
    "print(partial_xtrain.shape)\n",
    "partial_ytrain = y_train[1000:]\n",
    "print(partial_ytrain.shape)"
   ]
  },
  {
   "cell_type": "code",
   "execution_count": 39,
   "metadata": {},
   "outputs": [
    {
     "name": "stdout",
     "output_type": "stream",
     "text": [
      "Train on 7982 samples, validate on 1000 samples\n",
      "Epoch 1/20\n",
      "7982/7982 [==============================] - 6s 785us/step - loss: 3.3915 - acc: 0.4297 - val_loss: 2.6589 - val_acc: 0.5380\n",
      "Epoch 2/20\n",
      "7982/7982 [==============================] - 5s 667us/step - loss: 2.0591 - acc: 0.5779 - val_loss: 1.6543 - val_acc: 0.6270\n",
      "Epoch 3/20\n",
      "7982/7982 [==============================] - 5s 603us/step - loss: 1.3866 - acc: 0.6954 - val_loss: 1.3393 - val_acc: 0.6990\n",
      "Epoch 4/20\n",
      "7982/7982 [==============================] - 5s 661us/step - loss: 1.0528 - acc: 0.7671 - val_loss: 1.1713 - val_acc: 0.7400\n",
      "Epoch 5/20\n",
      "7982/7982 [==============================] - 5s 641us/step - loss: 0.8005 - acc: 0.8208 - val_loss: 1.0620 - val_acc: 0.7720\n",
      "Epoch 6/20\n",
      "7982/7982 [==============================] - 5s 609us/step - loss: 0.5910 - acc: 0.8636 - val_loss: 0.9938 - val_acc: 0.7910\n",
      "Epoch 7/20\n",
      "7982/7982 [==============================] - 5s 639us/step - loss: 0.4261 - acc: 0.9039 - val_loss: 0.9697 - val_acc: 0.8050\n",
      "Epoch 8/20\n",
      "7982/7982 [==============================] - 5s 592us/step - loss: 0.3121 - acc: 0.9316 - val_loss: 0.9741 - val_acc: 0.8060\n",
      "Epoch 9/20\n",
      "7982/7982 [==============================] - 5s 591us/step - loss: 0.2368 - acc: 0.9453 - val_loss: 0.9704 - val_acc: 0.8150\n",
      "Epoch 10/20\n",
      "7982/7982 [==============================] - 5s 610us/step - loss: 0.1924 - acc: 0.9533 - val_loss: 1.0116 - val_acc: 0.8150\n",
      "Epoch 11/20\n",
      "7982/7982 [==============================] - 5s 658us/step - loss: 0.1565 - acc: 0.9560 - val_loss: 1.0223 - val_acc: 0.8170\n",
      "Epoch 12/20\n",
      "7982/7982 [==============================] - 5s 657us/step - loss: 0.1397 - acc: 0.9565 - val_loss: 1.0224 - val_acc: 0.8090\n",
      "Epoch 13/20\n",
      "7982/7982 [==============================] - 5s 589us/step - loss: 0.1281 - acc: 0.9597 - val_loss: 1.0167 - val_acc: 0.8180\n",
      "Epoch 14/20\n",
      "7982/7982 [==============================] - 5s 591us/step - loss: 0.1212 - acc: 0.9590 - val_loss: 1.0459 - val_acc: 0.8080\n",
      "Epoch 15/20\n",
      "7982/7982 [==============================] - 5s 596us/step - loss: 0.1089 - acc: 0.9642 - val_loss: 1.0389 - val_acc: 0.8120\n",
      "Epoch 16/20\n",
      "7982/7982 [==============================] - 5s 592us/step - loss: 0.1094 - acc: 0.9612 - val_loss: 1.0858 - val_acc: 0.8030\n",
      "Epoch 17/20\n",
      "7982/7982 [==============================] - 5s 592us/step - loss: 0.1039 - acc: 0.9615 - val_loss: 1.0685 - val_acc: 0.8080\n",
      "Epoch 18/20\n",
      "7982/7982 [==============================] - 5s 590us/step - loss: 0.0953 - acc: 0.9622 - val_loss: 1.0794 - val_acc: 0.8030\n",
      "Epoch 19/20\n",
      "7982/7982 [==============================] - 5s 622us/step - loss: 0.0934 - acc: 0.9622 - val_loss: 1.1020 - val_acc: 0.8010\n",
      "Epoch 20/20\n",
      "7982/7982 [==============================] - 5s 672us/step - loss: 0.1004 - acc: 0.9624 - val_loss: 1.0983 - val_acc: 0.8000\n"
     ]
    }
   ],
   "source": [
    "history = model.fit(partial_xtrain,partial_ytrain,epochs = 20,batch_size=512,validation_data=(x_validation,y_validation))"
   ]
  },
  {
   "cell_type": "code",
   "execution_count": 40,
   "metadata": {},
   "outputs": [
    {
     "data": {
      "image/png": "[encoded data removed]",
      "text/plain": [
       "<Figure size 432x288 with 1 Axes>"
      ]
     },
     "metadata": {
      "needs_background": "light"
     },
     "output_type": "display_data"
    },
    {
     "data": {
      "image/png": "[encoded data removed]",
      "text/plain": [
       "<Figure size 432x288 with 1 Axes>"
      ]
     },
     "metadata": {
      "needs_background": "light"
     },
     "output_type": "display_data"
    }
   ],
   "source": [
    "import matplotlib.pyplot as plt\n",
    "history_dict = history.history\n",
    "def plotting(epochs,y1,y2,data):\n",
    "    x = [i for i in range(1,epochs+1)]\n",
    "    plt.plot(x,y1,label = \"training {}\".format(data))\n",
    "    plt.plot(x,y2,label = \"validation{}\".format(data))\n",
    "    plt.legend()\n",
    "    plt.show()\n",
    "\n",
    "plotting(20,[x for x in history_dict[\"loss\"]],[x for x in history_dict[\"val_loss\"]],\"loss\")\n",
    "plotting(20,history_dict[\"acc\"],history_dict[\"val_acc\"],\"acc\")\n",
    "    "
   ]
  },
  {
   "cell_type": "code",
   "execution_count": 41,
   "metadata": {},
   "outputs": [
    {
     "data": {
      "text/plain": [
       "'the in wants intermediate 3 how types could mln at against 2 guidelines vs end products opec he will will along results and willingly exports 3 purchased each it stubbornly profit 3 avondale profit agreement in around corp should for 3 cannot mln in ended said avondale a 54 but 3 stubbornly a only generally political primarily date other under well a in british rate gain if demand at an div its taking report montreal systems were is and production had vs 000 7 issued year for 0 a in buffer rate loss may results tariffs dlrs is and from 39 s 000 for 3 cannot pre 50 east that in foods products opec last 1 fall change 1 approval in 15 2 said in opec 28 but for 3 cannot cts systems which is half be 6 iffezheim uobm said president amount pct dlrs '"
      ]
     },
     "execution_count": 41,
     "metadata": {},
     "output_type": "execute_result"
    }
   ],
   "source": [
    "convert_token_to_word(test_data[0])"
   ]
  },
  {
   "cell_type": "code",
   "execution_count": 42,
   "metadata": {},
   "outputs": [],
   "source": [
    "pred = model.predict(x_test)"
   ]
  },
  {
   "cell_type": "code",
   "execution_count": 46,
   "metadata": {},
   "outputs": [
    {
     "data": {
      "text/plain": [
       "3"
      ]
     },
     "execution_count": 46,
     "metadata": {},
     "output_type": "execute_result"
    }
   ],
   "source": [
    "train_label[0]"
   ]
  },
  {
   "cell_type": "code",
   "execution_count": 47,
   "metadata": {},
   "outputs": [
    {
     "data": {
      "text/plain": [
       "3"
      ]
     },
     "execution_count": 47,
     "metadata": {},
     "output_type": "execute_result"
    }
   ],
   "source": [
    "def custom_news(article):\n",
    "    article_arr = article.split(\" \")\n",
    "    int_article = [[word_index[x] for x in article_arr]]\n",
    "    custom_test = one_hot_encode(int_article)\n",
    "    return np.argmax(model.predict(custom_test)[0])\n",
    "custom_news(\"cocoa cake\")"
   ]
  }
 ],
 "metadata": {
  "kernelspec": {
   "display_name": "Python 3",
   "language": "python",
   "name": "python3"
  },
  "language_info": {
   "codemirror_mode": {
    "name": "ipython",
    "version": 3
   },
   "file_extension": ".py",
   "mimetype": "text/x-python",
   "name": "python",
   "nbconvert_exporter": "python",
   "pygments_lexer": "ipython3",
   "version": "3.5.6"
  }
 },
 "nbformat": 4,
 "nbformat_minor": 4
}
